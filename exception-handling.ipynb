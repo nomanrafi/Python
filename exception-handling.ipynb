{
 "cells": [
  {
   "cell_type": "code",
   "execution_count": 2,
   "metadata": {},
   "outputs": [],
   "source": [
    "a = 5\n",
    "\n",
    "if a == 3:\n",
    "  print('hello')"
   ]
  },
  {
   "cell_type": "code",
   "execution_count": 4,
   "metadata": {},
   "outputs": [],
   "source": [
    "a = 5\n",
    "\n",
    "if a == 3:\n",
    "  print('hello')"
   ]
  },
  {
   "cell_type": "code",
   "execution_count": 7,
   "metadata": {},
   "outputs": [
    {
     "data": {
      "text/plain": [
       "3"
      ]
     },
     "execution_count": 7,
     "metadata": {},
     "output_type": "execute_result"
    }
   ],
   "source": [
    "# 1. IndexError: Accessing invalid index.\n",
    "\n",
    "L = [1, 2, 3]\n",
    "L[2]"
   ]
  },
  {
   "cell_type": "code",
   "execution_count": 9,
   "metadata": {},
   "outputs": [
    {
     "data": {
      "text/plain": [
       "5"
      ]
     },
     "execution_count": 9,
     "metadata": {},
     "output_type": "execute_result"
    }
   ],
   "source": [
    "# 2. ModuleNotFoundError: Module not found.\n",
    "\n",
    "import math\n",
    "math.floor(5.3)"
   ]
  },
  {
   "cell_type": "code",
   "execution_count": 11,
   "metadata": {},
   "outputs": [
    {
     "data": {
      "text/plain": [
       "'nitish'"
      ]
     },
     "execution_count": 11,
     "metadata": {},
     "output_type": "execute_result"
    }
   ],
   "source": [
    "# 3. KeyError: Dictionary key not found.\n",
    "\n",
    "d = {'name':'nitish'}\n",
    "d['name']"
   ]
  },
  {
   "cell_type": "code",
   "execution_count": 14,
   "metadata": {},
   "outputs": [
    {
     "data": {
      "text/plain": [
       "5"
      ]
     },
     "execution_count": 14,
     "metadata": {},
     "output_type": "execute_result"
    }
   ],
   "source": [
    "# 5. ValueError: Correct type, wrong value.\n",
    "\n",
    "int(a)"
   ]
  },
  {
   "cell_type": "code",
   "execution_count": 16,
   "metadata": {},
   "outputs": [
    {
     "name": "stdout",
     "output_type": "stream",
     "text": [
      "5\n"
     ]
    }
   ],
   "source": [
    "# 6. NameError: Undefined name.\n",
    "\n",
    "print(a)"
   ]
  },
  {
   "cell_type": "code",
   "execution_count": 19,
   "metadata": {},
   "outputs": [],
   "source": [
    "# Create file and write text\n",
    "\n",
    "with open('sample.txt', 'w') as f:\n",
    "  f.write('hello world')"
   ]
  },
  {
   "cell_type": "code",
   "execution_count": 20,
   "metadata": {},
   "outputs": [
    {
     "name": "stdout",
     "output_type": "stream",
     "text": [
      "sorry file not found\n"
     ]
    }
   ],
   "source": [
    "# Try-Catch Demo\n",
    "\n",
    "try:\n",
    "  with open('sample1.txt', 'r') as f:\n",
    "    print(f.read())\n",
    "except:\n",
    "  print('sorry file not found')"
   ]
  },
  {
   "cell_type": "code",
   "execution_count": 21,
   "metadata": {},
   "outputs": [
    {
     "name": "stdout",
     "output_type": "stream",
     "text": [
      "file not found\n"
     ]
    }
   ],
   "source": [
    "# Catching Specific Exceptions ---> informing users about errors, improving user experience.\n",
    "\n",
    "try:\n",
    "  m = 5\n",
    "  f = open('sample1.txt', 'r')\n",
    "  print(f.read())\n",
    "  print(m)\n",
    "  print(5 / 2)\n",
    "  L = [1, 2, 3]\n",
    "  L[100]\n",
    "except FileNotFoundError:\n",
    "  print('file not found')\n",
    "except NameError:\n",
    "  print('variable not defined')\n",
    "except ZeroDivisionError:\n",
    "  print(\"can't divide by 0\")\n",
    "except Exception as e:\n",
    "  print(e)"
   ]
  },
  {
   "cell_type": "code",
   "execution_count": 22,
   "metadata": {},
   "outputs": [
    {
     "name": "stdout",
     "output_type": "stream",
     "text": [
      "file nai mili\n"
     ]
    }
   ],
   "source": [
    "# `else` in Try-Except\n",
    "\n",
    "try:\n",
    "  f = open('sample1.txt', 'r')\n",
    "except FileNotFoundError:\n",
    "  print('file nai mili')\n",
    "except Exception:\n",
    "  print('kuch to lafda hai')\n",
    "else:\n",
    "  print(f.read())"
   ]
  },
  {
   "cell_type": "code",
   "execution_count": 23,
   "metadata": {},
   "outputs": [
    {
     "name": "stdout",
     "output_type": "stream",
     "text": [
      "file nai mili\n",
      "ye to print hoga hi\n"
     ]
    }
   ],
   "source": [
    "# `finally`\n",
    "\n",
    "try:\n",
    "  f = open('sample1.txt', 'r')\n",
    "except FileNotFoundError:\n",
    "  print('file nai mili')\n",
    "except Exception:\n",
    "  print('kuch to lafda hai')\n",
    "else:\n",
    "  print(f.read())\n",
    "finally:\n",
    "  print('ye to print hoga hi')"
   ]
  },
  {
   "cell_type": "code",
   "execution_count": null,
   "metadata": {},
   "outputs": [],
   "source": []
  },
  {
   "cell_type": "code",
   "execution_count": null,
   "metadata": {},
   "outputs": [],
   "source": []
  },
  {
   "cell_type": "code",
   "execution_count": null,
   "metadata": {},
   "outputs": [],
   "source": []
  }
 ],
 "metadata": {
  "kernelspec": {
   "display_name": "base",
   "language": "python",
   "name": "python3"
  },
  "language_info": {
   "codemirror_mode": {
    "name": "ipython",
    "version": 3
   },
   "file_extension": ".py",
   "mimetype": "text/x-python",
   "name": "python",
   "nbconvert_exporter": "python",
   "pygments_lexer": "ipython3",
   "version": "3.11.7"
  }
 },
 "nbformat": 4,
 "nbformat_minor": 2
}
