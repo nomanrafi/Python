{
 "cells": [
  {
   "cell_type": "code",
   "execution_count": 1,
   "metadata": {},
   "outputs": [
    {
     "name": "stdout",
     "output_type": "stream",
     "text": [
      "\n",
      "Please wait a moment while I gather a list of all available modules...\n",
      "\n"
     ]
    },
    {
     "name": "stderr",
     "output_type": "stream",
     "text": [
      "c:\\Users\\noman\\anaconda3\\Lib\\site-packages\\paramiko\\transport.py:219: CryptographyDeprecationWarning: Blowfish has been deprecated and will be removed in a future release\n",
      "  \"class\": algorithms.Blowfish,\n",
      "c:\\Users\\noman\\anaconda3\\Lib\\site-packages\\nltk\\twitter\\__init__.py:20: UserWarning: The twython library has not been installed. Some functionality from the twitter package will not be available.\n",
      "  warnings.warn(\n",
      "c:\\Users\\noman\\anaconda3\\Lib\\pkgutil.py:92: UserWarning: The numpy.array_api submodule is still experimental. See NEP 47.\n",
      "  __import__(info.name)\n",
      "c:\\Users\\noman\\anaconda3\\Lib\\site-packages\\_distutils_hack\\__init__.py:33: UserWarning: Setuptools is replacing distutils.\n",
      "  warnings.warn(\"Setuptools is replacing distutils.\")\n",
      "No QCoreApplication instance found. Application patches not applied. You have to call load_stylesheet function after instantiation of QApplication to take effect. \n"
     ]
    },
    {
     "name": "stdout",
     "output_type": "stream",
     "text": [
      "6c7190bc8b55ffe67f57__mypyc concurrent          mccabe              smtpd\n",
      "IPython             conda               mdit_py_plugins     smtplib\n",
      "OpenSSL             conda_build         mdurl               snappy\n",
      "PIL                 conda_content_trust menuinst            sndhdr\n",
      "PyQt5               conda_env           mimetypes           sniffio\n",
      "__future__          conda_index         mistune             snowballstemmer\n",
      "__hello__           conda_libmamba_solver mkl                 socket\n",
      "__phello__          conda_pack          mkl_fft             socketserver\n",
      "_abc                conda_package_handling mmap                socks\n",
      "_aix_support        conda_package_streaming mmapfile            sockshandler\n",
      "_argon2_cffi_bindings conda_token         mmsystem            sortedcontainers\n",
      "_ast                conda_verify        modulefinder        soupsieve\n",
      "_asyncio            configparser        more_itertools      sphinx\n",
      "_bisect             constantly          mpmath              spyder\n",
      "_black_version      contextlib          msgpack             spyder_kernels\n",
      "_blake2             contextvars         msilib              sqlalchemy\n",
      "_bootsubprocess     contourpy           msvcrt              sqlite3\n",
      "_brotli             cookiecutter        multidict           sre_compile\n",
      "_bz2                copy                multipledispatch    sre_constants\n",
      "_cffi_backend       copyreg             multiprocessing     sre_parse\n",
      "_codecs             cpuinfo             munkres             ssl\n",
      "_codecs_cn          crypt               mypy                sspi\n",
      "_codecs_hk          cryptography        mypy_extensions     sspicon\n",
      "_codecs_iso2022     cssselect           mypyc               stack_data\n",
      "_codecs_jp          csv                 nacl                stat\n",
      "_codecs_kr          ctypes              navigator_updater   statistics\n",
      "_codecs_tw          curl                nbclient            statsmodels\n",
      "_collections        curses              nbconvert           streamlit\n",
      "_collections_abc    cwp                 nbformat            string\n",
      "_compat_pickle      cycler              nest_asyncio        stringprep\n",
      "_compression        cytoolz             netbios             struct\n",
      "_contextvars        dask                netrc               subprocess\n",
      "_csv                dataclasses         networkx            sunau\n",
      "_ctypes             datashader          nltk                sympy\n",
      "_ctypes_test        datetime            nntplib             symtable\n",
      "_datetime           dateutil            notebook            sys\n",
      "_decimal            dbi                 notebook_shim       sysconfig\n",
      "_distutils_hack     dbm                 nt                  tables\n",
      "_elementtree        dde                 ntpath              tabnanny\n",
      "_functools          debugpy             ntsecuritycon       tabulate\n",
      "_hashlib            decimal             nturl2path          tarfile\n",
      "_heapq              decorator           numba               tblib\n",
      "_imp                defusedxml          numbergen           telnetlib\n",
      "_io                 diff_match_patch    numbers             tempfile\n",
      "_json               difflib             numexpr             tenacity\n",
      "_locale             dill                numpy               terminado\n",
      "_lsprof             dis                 numpydoc            test\n",
      "_lzma               distributed         odbc                test_pycosat\n",
      "_markupbase         distro              opcode              text_unidecode\n",
      "_md5                distutils           openpyxl            textdistance\n",
      "_msi                docstring_to_markdown operator            textwrap\n",
      "_multibytecodec     doctest             optparse            this\n",
      "_multiprocessing    docutils            os                  threading\n",
      "_nsis               dotenv              overrides           threadpoolctl\n",
      "_opcode             email               packaging           three_merge\n",
      "_operator           encodings           pandas              tifffile\n",
      "_osx_support        ensurepip           pandocfilters       time\n",
      "_overlapped         entrypoints         panel               timeit\n",
      "_pickle             enum                param               timer\n",
      "_plotly_future_     erfa                paramiko            tinycss2\n",
      "_plotly_utils       errno               parsel              tkinter\n",
      "_py_abc             et_xmlfile          parso               tldextract\n",
      "_pydecimal          executing           partd               tlz\n",
      "_pyio               fastjsonschema      past                token\n",
      "_pytest             faulthandler        pathlib             tokenize\n",
      "_queue              filecmp             pathspec            toml\n",
      "_random             fileinput           patsy               tomlkit\n",
      "_sha1               filelock            pdb                 tomllib\n",
      "_sha256             flake8              perfmon             toolz\n",
      "_sha3               flask               pexpect             tornado\n",
      "_sha512             fnmatch             pickle              tqdm\n",
      "_signal             fontTools           pickleshare         trace\n",
      "_sitebuiltins       fractions           pickletools         traceback\n",
      "_socket             frozendict          pip                 tracemalloc\n",
      "_sqlite3            frozenlist          pipes               traitlets\n",
      "_sre                fsspec              pkce                truststore\n",
      "_ssl                ftplib              pkg_resources       tty\n",
      "_stat               functools           pkginfo             turtle\n",
      "_statistics         future              pkgutil             turtledemo\n",
      "_string             gc                  platform            twisted\n",
      "_strptime           genericpath         platformdirs        types\n",
      "_struct             gensim              plistlib            typing\n",
      "_symtable           getopt              plotly              typing_extensions\n",
      "_system_path        getpass             pluggy              tzdata\n",
      "_testbuffer         gettext             ply                 tzlocal\n",
      "_testcapi           git                 poplib              uc_micro\n",
      "_testconsole        gitdb               posixpath           ujson\n",
      "_testimportmultiple glob                pprint              unicodedata\n",
      "_testinternalcapi   gmpy2               profile             unidecode\n",
      "_testmultiphase     graphlib            prometheus_client   unittest\n",
      "_thread             greenlet            prompt_toolkit      urllib\n",
      "_threading_local    gzip                protego             urllib3\n",
      "_tkinter            h11                 pstats              uu\n",
      "_tokenize           h5py                psutil              uuid\n",
      "_tracemalloc        hashlib             pty                 validators\n",
      "_typing             heapdict            ptyprocess          venv\n",
      "_uuid               heapq               pure_eval           w3lib\n",
      "_warnings           hmac                py                  warnings\n",
      "_weakref            holoviews           py_compile          watchdog\n",
      "_weakrefset         html                pyarrow             wave\n",
      "_win32sysloader     http                pyasn1              wcwidth\n",
      "_winapi             httpcore            pyasn1_modules      weakref\n",
      "_winxptheme         httpx               pyclbr              webbrowser\n",
      "_xxsubinterpreters  hvplot              pycodestyle         webencodings\n",
      "_yaml               hyperlink           pycosat             websocket\n",
      "_zoneinfo           idlelib             pycparser           werkzeug\n",
      "abc                 idna                pyct                whatthepatch\n",
      "adodbapi            imagecodecs         pycurl              wheel\n",
      "afxres              imageio             pydantic            widgetsnbextension\n",
      "aifc                imagesize           pydeck              win2kras\n",
      "aiobotocore         imaplib             pydispatch          win32api\n",
      "aiohttp             imblearn            pydoc               win32clipboard\n",
      "aioitertools        imghdr              pydoc_data          win32com\n",
      "aiosignal           imp                 pydocstyle          win32con\n",
      "alabaster           importlib           pyexpat             win32console\n",
      "altair              importlib_metadata  pyflakes            win32cred\n",
      "anaconda_anon_usage incremental         pygments            win32crypt\n",
      "anaconda_catalogs   inflection          pylab               win32cryptcon\n",
      "anaconda_cloud_auth iniconfig           pylint              win32ctypes\n",
      "anaconda_navigator  inspect             pylint_venv         win32event\n",
      "anaconda_project    intake              pyls_spyder         win32evtlog\n",
      "antigravity         intervaltree        pylsp               win32evtlogutil\n",
      "anyio               io                  pylsp_black         win32file\n",
      "appdirs             ipaddress           pylsp_jsonrpc       win32gui\n",
      "archspec            ipykernel           pyodbc              win32gui_struct\n",
      "argon2              ipykernel_launcher  pyparsing           win32help\n",
      "argparse            ipython_genutils    pytest              win32inet\n",
      "array               ipywidgets          pythoncom           win32inetcon\n",
      "arrow               isapi               pythonjsonlogger    win32job\n",
      "ast                 isort               pytoolconfig        win32lz\n",
      "astroid             isympy              pytz                win32net\n",
      "astropy             itemadapter         pyviz_comms         win32netcon\n",
      "asttokens           itemloaders         pywin               win32pdh\n",
      "async_lru           itertools           pywin32_bootstrap   win32pdhquery\n",
      "asynchat            itsdangerous        pywin32_testutil    win32pdhutil\n",
      "asyncio             jedi                pywintypes          win32pipe\n",
      "asyncore            jellyfish           pywt                win32print\n",
      "atexit              jinja2              qdarkstyle          win32process\n",
      "atomicwrites        jmespath            qstylizer           win32profile\n",
      "attr                joblib              qtawesome           win32ras\n",
      "attrs               json                qtconsole           win32rcparser\n",
      "audioop             json5               qtpy                win32security\n",
      "automat             jsonpatch           queue               win32service\n",
      "autopep8            jsonpointer         queuelib            win32serviceutil\n",
      "babel               jsonschema          quopri              win32timezone\n",
      "backports           jsonschema_specifications random              win32trace\n",
      "base64              jupyter             rasutil             win32traceutil\n",
      "bcrypt              jupyter_client      re                  win32transaction\n",
      "bdb                 jupyter_console     referencing         win32ts\n",
      "binaryornot         jupyter_core        regcheck            win32ui\n",
      "binascii            jupyter_events      regex               win32uiole\n",
      "binstar_client      jupyter_lsp         regutil             win32verstamp\n",
      "bisect              jupyter_server      repo_cli            win32wnet\n",
      "black               jupyter_server_terminals reprlib             win_inet_pton\n",
      "blackd              jupyterlab          requests            winerror\n",
      "bleach              jupyterlab_plotly   requests_file       winioctlcon\n",
      "blib2to3            jupyterlab_pygments requests_toolbelt   winnt\n",
      "blinker             jupyterlab_server   rfc3339_validator   winperf\n",
      "bokeh               jupyterlab_widgets  rfc3986_validator   winpty\n",
      "boltons             jwt                 rich                winreg\n",
      "botocore            keyring             rlcompleter         winsound\n",
      "bottleneck          keyword             rope                winxpgui\n",
      "brotli              kiwisolver          rpds                winxptheme\n",
      "bs4                 lazy_loader         rtree               wrapt\n",
      "builtins            lazy_object_proxy   ruamel_yaml         wsgiref\n",
      "bz2                 lckr_jupyterlab_variableinspector runpy               xarray\n",
      "cProfile            lib2to3             s3fs                xdrlib\n",
      "cachetools          libarchive          sched               xlwings\n",
      "calendar            libfuturize         scipy               xml\n",
      "certifi             libmambapy          scrapy              xmlrpc\n",
      "cffi                libpasteurize       seaborn             xxlimited\n",
      "cgi                 lief                secrets             xxlimited_35\n",
      "cgitb               linecache           select              xxsubtype\n",
      "chardet             linkify_it          selectors           xyzservices\n",
      "charset_normalizer  llvmlite            semver              yaml\n",
      "chunk               lmdb                send2trash          yapf\n",
      "click               locale              service_identity    yapftests\n",
      "cloudpickle         locket              servicemanager      yarl\n",
      "clyent              logging             setuptools          zict\n",
      "cmath               lxml                shelve              zipapp\n",
      "cmd                 lz4                 shlex               zipfile\n",
      "code                lzma                shutil              zipimport\n",
      "codecs              mailbox             signal              zipp\n",
      "codeop              mailcap             sipbuild            zlib\n",
      "collections         markdown            site                zmq\n",
      "colorama            markdown_it         six                 zoneinfo\n",
      "colorcet            markupsafe          skimage             zope\n",
      "colorsys            marshal             sklearn             zstandard\n",
      "comm                math                slugify             \n",
      "commctrl            matplotlib          smart_open          \n",
      "compileall          matplotlib_inline   smmap               \n",
      "\n",
      "Enter any module name to get more help.  Or, type \"modules spam\" to search\n",
      "for modules whose name or summary contain the string \"spam\".\n",
      "\n"
     ]
    }
   ],
   "source": [
    "help('modules')"
   ]
  },
  {
   "cell_type": "code",
   "execution_count": 2,
   "metadata": {},
   "outputs": [
    {
     "name": "stdout",
     "output_type": "stream",
     "text": [
      "['False', 'None', 'True', 'and', 'as', 'assert', 'async', 'await', 'break', 'class', 'continue', 'def', 'del', 'elif', 'else', 'except', 'finally', 'for', 'from', 'global', 'if', 'import', 'in', 'is', 'lambda', 'nonlocal', 'not', 'or', 'pass', 'raise', 'return', 'try', 'while', 'with', 'yield']\n"
     ]
    }
   ],
   "source": [
    "# keyword module\n",
    "import keyword\n",
    "print(keyword.kwlist)  # Reserved keywords in Python"
   ]
  },
  {
   "cell_type": "code",
   "execution_count": 3,
   "metadata": {},
   "outputs": [],
   "source": [
    "# include <stdio.h>\n",
    "import math"
   ]
  },
  {
   "cell_type": "code",
   "execution_count": 4,
   "metadata": {},
   "outputs": [
    {
     "data": {
      "text/plain": [
       "3.141592653589793"
      ]
     },
     "execution_count": 4,
     "metadata": {},
     "output_type": "execute_result"
    }
   ],
   "source": [
    "math.pi"
   ]
  },
  {
   "cell_type": "code",
   "execution_count": 5,
   "metadata": {},
   "outputs": [
    {
     "data": {
      "text/plain": [
       "2.718281828459045"
      ]
     },
     "execution_count": 5,
     "metadata": {},
     "output_type": "execute_result"
    }
   ],
   "source": [
    "math.e"
   ]
  },
  {
   "cell_type": "code",
   "execution_count": 6,
   "metadata": {},
   "outputs": [
    {
     "data": {
      "text/plain": [
       "120"
      ]
     },
     "execution_count": 6,
     "metadata": {},
     "output_type": "execute_result"
    }
   ],
   "source": [
    "math.factorial(5)"
   ]
  },
  {
   "cell_type": "code",
   "execution_count": 7,
   "metadata": {},
   "outputs": [
    {
     "data": {
      "text/plain": [
       "7"
      ]
     },
     "execution_count": 7,
     "metadata": {},
     "output_type": "execute_result"
    }
   ],
   "source": [
    "math.ceil(6.3)"
   ]
  },
  {
   "cell_type": "code",
   "execution_count": 8,
   "metadata": {},
   "outputs": [
    {
     "data": {
      "text/plain": [
       "6"
      ]
     },
     "execution_count": 8,
     "metadata": {},
     "output_type": "execute_result"
    }
   ],
   "source": [
    "math.floor(6.9)"
   ]
  },
  {
   "cell_type": "code",
   "execution_count": 9,
   "metadata": {},
   "outputs": [
    {
     "data": {
      "text/plain": [
       "11"
      ]
     },
     "execution_count": 9,
     "metadata": {},
     "output_type": "execute_result"
    }
   ],
   "source": [
    "import random\n",
    "random.randint(1, 100)"
   ]
  },
  {
   "cell_type": "code",
   "execution_count": 10,
   "metadata": {},
   "outputs": [
    {
     "data": {
      "text/plain": [
       "[1, 5, 2, 4, 3]"
      ]
     },
     "execution_count": 10,
     "metadata": {},
     "output_type": "execute_result"
    }
   ],
   "source": [
    "a = [1, 2, 3, 4, 5]\n",
    "random.shuffle(a)\n",
    "a"
   ]
  },
  {
   "cell_type": "code",
   "execution_count": 11,
   "metadata": {},
   "outputs": [
    {
     "data": {
      "text/plain": [
       "1730381226.334471"
      ]
     },
     "execution_count": 11,
     "metadata": {},
     "output_type": "execute_result"
    }
   ],
   "source": [
    "import time\n",
    "time.time() # Current time (seconds)"
   ]
  },
  {
   "cell_type": "code",
   "execution_count": 12,
   "metadata": {},
   "outputs": [
    {
     "data": {
      "text/plain": [
       "'Thu Oct 31 19:27:06 2024'"
      ]
     },
     "execution_count": 12,
     "metadata": {},
     "output_type": "execute_result"
    }
   ],
   "source": [
    "time.ctime() # Current time (string)"
   ]
  },
  {
   "cell_type": "code",
   "execution_count": 13,
   "metadata": {},
   "outputs": [
    {
     "name": "stdout",
     "output_type": "stream",
     "text": [
      "Hello\n",
      "World\n"
     ]
    }
   ],
   "source": [
    "print(\"Hello\")\n",
    "time.sleep(5) # Delay for 5 seconds\n",
    "print(\"World\")"
   ]
  },
  {
   "cell_type": "code",
   "execution_count": 14,
   "metadata": {},
   "outputs": [
    {
     "name": "stdout",
     "output_type": "stream",
     "text": [
      "2024-10-31 19:27:11.380110\n"
     ]
    }
   ],
   "source": [
    "import datetime\n",
    "print(datetime.datetime.now()) # Current date/time"
   ]
  },
  {
   "cell_type": "code",
   "execution_count": 15,
   "metadata": {},
   "outputs": [
    {
     "data": {
      "text/plain": [
       "'d:\\\\git\\\\GitHub\\\\Python'"
      ]
     },
     "execution_count": 15,
     "metadata": {},
     "output_type": "execute_result"
    }
   ],
   "source": [
    "import os\n",
    "os.getcwd() # Current working dir"
   ]
  },
  {
   "cell_type": "code",
   "execution_count": 16,
   "metadata": {},
   "outputs": [
    {
     "data": {
      "text/plain": [
       "['.git',\n",
       " 'break_continue_pass.ipynb',\n",
       " 'built-in-modules.ipynb',\n",
       " 'built_in_function.ipynb',\n",
       " 'for_loop.ipynb',\n",
       " 'guessing_game.ipynb',\n",
       " 'if-else.ipynb',\n",
       " 'keyword.ipynb',\n",
       " 'literals.ipynb',\n",
       " 'loop.ipynb',\n",
       " 'nested_loop.ipynb',\n",
       " 'print_function.ipynb',\n",
       " 'README.md',\n",
       " 'user_input.ipynb']"
      ]
     },
     "execution_count": 16,
     "metadata": {},
     "output_type": "execute_result"
    }
   ],
   "source": [
    "os.listdir() # Files in dir"
   ]
  }
 ],
 "metadata": {
  "kernelspec": {
   "display_name": "base",
   "language": "python",
   "name": "python3"
  },
  "language_info": {
   "codemirror_mode": {
    "name": "ipython",
    "version": 3
   },
   "file_extension": ".py",
   "mimetype": "text/x-python",
   "name": "python",
   "nbconvert_exporter": "python",
   "pygments_lexer": "ipython3",
   "version": "3.11.7"
  }
 },
 "nbformat": 4,
 "nbformat_minor": 2
}
