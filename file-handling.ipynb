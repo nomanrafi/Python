{
 "cells": [
  {
   "cell_type": "code",
   "execution_count": 1,
   "metadata": {},
   "outputs": [],
   "source": [
    "# Case 1 - File Not Present\n",
    "\n",
    "f = open('sample.txt', 'w')\n",
    "f.write('Hello world')\n",
    "f.close()\n",
    "\n",
    "# Create file in current dir"
   ]
  },
  {
   "cell_type": "code",
   "execution_count": 2,
   "metadata": {},
   "outputs": [
    {
     "ename": "ValueError",
     "evalue": "I/O operation on closed file.",
     "output_type": "error",
     "traceback": [
      "\u001b[1;31m---------------------------------------------------------------------------\u001b[0m",
      "\u001b[1;31mValueError\u001b[0m                                Traceback (most recent call last)",
      "Cell \u001b[1;32mIn[2], line 3\u001b[0m\n\u001b[0;32m      1\u001b[0m \u001b[38;5;66;03m# Error: File Closed\u001b[39;00m\n\u001b[1;32m----> 3\u001b[0m f\u001b[38;5;241m.\u001b[39mwrite(\u001b[38;5;124m'\u001b[39m\u001b[38;5;124mhello\u001b[39m\u001b[38;5;124m'\u001b[39m)\n",
      "\u001b[1;31mValueError\u001b[0m: I/O operation on closed file."
     ]
    }
   ],
   "source": [
    "# Error: File Closed\n",
    "\n",
    "f.write('hello')"
   ]
  },
  {
   "cell_type": "code",
   "execution_count": null,
   "metadata": {},
   "outputs": [],
   "source": [
    "# Write multiline strings to a file\n",
    "\n",
    "f = open('sample1.txt', 'w')\n",
    "f.write('hello world')\n",
    "f.write('\\n how are you?')\n",
    "f.close()"
   ]
  },
  {
   "cell_type": "code",
   "execution_count": null,
   "metadata": {},
   "outputs": [],
   "source": [
    "# Case 2 - File Overwrite in Write Mode ('w')\n",
    "\n",
    "f = open('sample.txt', 'w')\n",
    "f.write('salman khan')\n",
    "f.close()\n",
    "\n",
    "# Note: Opening in 'w' mode replaces all existing content in 'sample.txt'."
   ]
  },
  {
   "cell_type": "code",
   "execution_count": null,
   "metadata": {},
   "outputs": [],
   "source": [
    "# Problem with 'w' mode ---> Overwrites file content.\n",
    "# To preserves existing content, use 'a' mode (append).\n",
    "\n",
    "f = open('/content/sample1.txt', 'a')\n",
    "f.write('\\nI am fine')\n",
    "f.close()"
   ]
  },
  {
   "cell_type": "code",
   "execution_count": null,
   "metadata": {},
   "outputs": [],
   "source": [
    "# Write Multiple Lines to a File\n",
    "\n",
    "L = ['hello\\n','hi\\n','how are you\\n', 'I am fine']\n",
    "\n",
    "f = open('/content/temp/sample.txt', 'w')\n",
    "f.writelines(L) # Efficiently writes multiple lines\n",
    "f.close()"
   ]
  },
  {
   "cell_type": "code",
   "execution_count": null,
   "metadata": {},
   "outputs": [],
   "source": [
    "# `read()` Usage\n",
    "\n",
    "f = open('/content/sample.txt', 'r')\n",
    "s = f.read()\n",
    "print(s)\n",
    "f.close()\n",
    "\n",
    "# NOTE : File I/O handles data as strings.\n",
    "#       `txt` files process data as text only, no other formats."
   ]
  },
  {
   "cell_type": "code",
   "execution_count": null,
   "metadata": {},
   "outputs": [],
   "source": [
    "# Read up to n chars\n",
    "\n",
    "f = open('/content/sample.txt', 'r')\n",
    "s = f.read(10)\n",
    "print(s)\n",
    "f.close()"
   ]
  },
  {
   "cell_type": "code",
   "execution_count": null,
   "metadata": {},
   "outputs": [],
   "source": [
    "# Using `readline()`\n",
    "\n",
    "f = open('/content/sample.txt', 'r')\n",
    "print(f.readline(), end='') # Avoid auto newline\n",
    "print(f.readline(), end='')\n",
    "f.close()"
   ]
  },
  {
   "cell_type": "code",
   "execution_count": null,
   "metadata": {},
   "outputs": [],
   "source": [
    "# Count Lines in File Efficiently ---> Avoid readline() per line; use custom code for efficiency.\n",
    "\n",
    "f = open('/content/sample.txt', 'r')\n",
    "while True:\n",
    "  data = f.readline()\n",
    "  if data == '':\n",
    "    break\n",
    "  else:\n",
    "    print(data, end='')\n",
    "f.close()"
   ]
  },
  {
   "cell_type": "code",
   "execution_count": null,
   "metadata": {},
   "outputs": [],
   "source": [
    "# `with` Statement\n",
    "\n",
    "with open('/content/sample1.txt', 'w') as f:\n",
    "  f.write('selmon bhai')"
   ]
  },
  {
   "cell_type": "code",
   "execution_count": null,
   "metadata": {},
   "outputs": [],
   "source": [
    "f.write('hello')"
   ]
  },
  {
   "cell_type": "code",
   "execution_count": null,
   "metadata": {},
   "outputs": [],
   "source": [
    "f.write('hello')"
   ]
  },
  {
   "cell_type": "code",
   "execution_count": null,
   "metadata": {},
   "outputs": [],
   "source": [
    "# Reading 10 Characters at a Time\n",
    "\n",
    "with open('sample.txt', 'r') as f:\n",
    "    print(f.read(10))  # First 10 chars\n",
    "    print(f.read(10))  # Next 10 chars\n",
    "    print(f.read(10))  # Next 10 chars\n",
    "    print(f.read(10))  # Next 10 chars\n",
    "    # Each `print(f.read(10))` reads next 10 chars sequentially.\n",
    "    \n",
    "# Buffering tracks processed chars; `read()` resumes from buffer."
   ]
  },
  {
   "cell_type": "code",
   "execution_count": null,
   "metadata": {},
   "outputs": [],
   "source": [
    "# Reading 10 Characters at a Time\n",
    "\n",
    "with open('sample.txt', 'r') as f:\n",
    "    print(f.read(10))  # First 10 chars\n",
    "    print(f.read(10))  # Next 10 chars\n",
    "    print(f.read(10))  # Next 10 chars\n",
    "    print(f.read(10))  # Next 10 chars\n",
    "    # Each `print(f.read(10))` reads next 10 chars sequentially.\n",
    "    \n",
    "# Buffering tracks processed chars; `read()` resumes from buffer."
   ]
  },
  {
   "cell_type": "code",
   "execution_count": null,
   "metadata": {},
   "outputs": [],
   "source": [
    "with open('big.txt', 'r') as f:\n",
    "  chunk_size = 10\n",
    "  while len(f.read(chunk_size)) > 0:\n",
    "    print(f.read(chunk_size), end='***')\n",
    "    f.read(chunk_size) # Skip to next chunk\n",
    "\n",
    "# Handles large files, processes in chunks, avoiding memory overload.\n",
    "# Libraries like Pandas, Keras use chunk-based data processing."
   ]
  },
  {
   "cell_type": "code",
   "execution_count": null,
   "metadata": {},
   "outputs": [],
   "source": [
    "# Seek and Tell Function\n",
    "\n",
    "with open('sample.txt', 'r') as f:\n",
    "    f.seek(15)         # Move to 15th char\n",
    "    print(f.read(10))  # Read 10 chars\n",
    "    print(f.tell())    # Position after read\n",
    "    print(f.read(10))  # Read next 10 chars\n",
    "    print(f.tell())    # New position"
   ]
  }
 ],
 "metadata": {
  "kernelspec": {
   "display_name": "base",
   "language": "python",
   "name": "python3"
  },
  "language_info": {
   "codemirror_mode": {
    "name": "ipython",
    "version": 3
   },
   "file_extension": ".py",
   "mimetype": "text/x-python",
   "name": "python",
   "nbconvert_exporter": "python",
   "pygments_lexer": "ipython3",
   "version": "3.11.7"
  }
 },
 "nbformat": 4,
 "nbformat_minor": 2
}
