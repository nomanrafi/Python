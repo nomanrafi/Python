{
 "cells": [
  {
   "cell_type": "code",
   "execution_count": 1,
   "metadata": {},
   "outputs": [],
   "source": [
    "# Case 1 - File Not Present\n",
    "\n",
    "f = open('sample.txt', 'w')\n",
    "f.write('Hello world')\n",
    "f.close()\n",
    "\n",
    "# Create file in current dir"
   ]
  },
  {
   "cell_type": "code",
   "execution_count": 2,
   "metadata": {},
   "outputs": [],
   "source": [
    "# Case 2 - File Overwrite in Write Mode ('w')\n",
    "\n",
    "f = open('sample.txt', 'w')\n",
    "f.write('salman khan')\n",
    "f.close()\n",
    "\n",
    "# Note: Opening in 'w' mode replaces all existing content in 'sample.txt'."
   ]
  },
  {
   "cell_type": "code",
   "execution_count": 3,
   "metadata": {},
   "outputs": [
    {
     "name": "stdout",
     "output_type": "stream",
     "text": [
      "salman kha\n",
      "n\n",
      "\n",
      "\n"
     ]
    }
   ],
   "source": [
    "# Reading 10 Characters at a Time\n",
    "\n",
    "with open('sample.txt', 'r') as f:\n",
    "    print(f.read(10))  # First 10 chars\n",
    "    print(f.read(10))  # Next 10 chars\n",
    "    print(f.read(10))  # Next 10 chars\n",
    "    print(f.read(10))  # Next 10 chars\n",
    "    # Each `print(f.read(10))` reads next 10 chars sequentially.\n",
    "    \n",
    "# Buffering tracks processed chars; `read()` resumes from buffer."
   ]
  },
  {
   "cell_type": "code",
   "execution_count": 4,
   "metadata": {},
   "outputs": [
    {
     "name": "stdout",
     "output_type": "stream",
     "text": [
      "salman kha\n",
      "n\n",
      "\n",
      "\n"
     ]
    }
   ],
   "source": [
    "# Reading 10 Characters at a Time\n",
    "\n",
    "with open('sample.txt', 'r') as f:\n",
    "    print(f.read(10))  # First 10 chars\n",
    "    print(f.read(10))  # Next 10 chars\n",
    "    print(f.read(10))  # Next 10 chars\n",
    "    print(f.read(10))  # Next 10 chars\n",
    "    # Each `print(f.read(10))` reads next 10 chars sequentially.\n",
    "    \n",
    "# Buffering tracks processed chars; `read()` resumes from buffer."
   ]
  },
  {
   "cell_type": "code",
   "execution_count": 5,
   "metadata": {},
   "outputs": [
    {
     "name": "stdout",
     "output_type": "stream",
     "text": [
      "\n",
      "15\n",
      "\n",
      "15\n"
     ]
    }
   ],
   "source": [
    "# Seek and Tell Function\n",
    "\n",
    "with open('sample.txt', 'r') as f:\n",
    "    f.seek(15)         # Move to 15th char\n",
    "    print(f.read(10))  # Read 10 chars\n",
    "    print(f.tell())    # Position after read\n",
    "    print(f.read(10))  # Read next 10 chars\n",
    "    print(f.tell())    # New position"
   ]
  },
  {
   "cell_type": "code",
   "execution_count": 6,
   "metadata": {},
   "outputs": [],
   "source": [
    "# Seek during write\n",
    "\n",
    "with open('sample.txt', 'w') as f:\n",
    "    f.write('Hello')\n",
    "    f.seek(0)          # Cursor to start\n",
    "    f.write('Xa')      # Overwrite 'He' ---> 'Xa'"
   ]
  },
  {
   "cell_type": "code",
   "execution_count": 7,
   "metadata": {},
   "outputs": [
    {
     "ename": "FileNotFoundError",
     "evalue": "[Errno 2] No such file or directory: 'screenshot1.png'",
     "output_type": "error",
     "traceback": [
      "\u001b[1;31m---------------------------------------------------------------------------\u001b[0m",
      "\u001b[1;31mFileNotFoundError\u001b[0m                         Traceback (most recent call last)",
      "Cell \u001b[1;32mIn[7], line 3\u001b[0m\n\u001b[0;32m      1\u001b[0m \u001b[38;5;66;03m# Binary File I/O\u001b[39;00m\n\u001b[1;32m----> 3\u001b[0m \u001b[38;5;28;01mwith\u001b[39;00m \u001b[38;5;28mopen\u001b[39m(\u001b[38;5;124m'\u001b[39m\u001b[38;5;124mscreenshot1.png\u001b[39m\u001b[38;5;124m'\u001b[39m, \u001b[38;5;124m'\u001b[39m\u001b[38;5;124mrb\u001b[39m\u001b[38;5;124m'\u001b[39m) \u001b[38;5;28;01mas\u001b[39;00m f:          \u001b[38;5;66;03m# Read binary\u001b[39;00m\n\u001b[0;32m      4\u001b[0m     \u001b[38;5;28;01mwith\u001b[39;00m \u001b[38;5;28mopen\u001b[39m(\u001b[38;5;124m'\u001b[39m\u001b[38;5;124mscreenshot_copy.png\u001b[39m\u001b[38;5;124m'\u001b[39m, \u001b[38;5;124m'\u001b[39m\u001b[38;5;124mwb\u001b[39m\u001b[38;5;124m'\u001b[39m) \u001b[38;5;28;01mas\u001b[39;00m wf: \u001b[38;5;66;03m# Write binary\u001b[39;00m\n\u001b[0;32m      5\u001b[0m         wf\u001b[38;5;241m.\u001b[39mwrite(f\u001b[38;5;241m.\u001b[39mread())\n",
      "File \u001b[1;32mc:\\Users\\noman\\anaconda3\\Lib\\site-packages\\IPython\\core\\interactiveshell.py:310\u001b[0m, in \u001b[0;36m_modified_open\u001b[1;34m(file, *args, **kwargs)\u001b[0m\n\u001b[0;32m    303\u001b[0m \u001b[38;5;28;01mif\u001b[39;00m file \u001b[38;5;129;01min\u001b[39;00m {\u001b[38;5;241m0\u001b[39m, \u001b[38;5;241m1\u001b[39m, \u001b[38;5;241m2\u001b[39m}:\n\u001b[0;32m    304\u001b[0m     \u001b[38;5;28;01mraise\u001b[39;00m \u001b[38;5;167;01mValueError\u001b[39;00m(\n\u001b[0;32m    305\u001b[0m         \u001b[38;5;124mf\u001b[39m\u001b[38;5;124m\"\u001b[39m\u001b[38;5;124mIPython won\u001b[39m\u001b[38;5;124m'\u001b[39m\u001b[38;5;124mt let you open fd=\u001b[39m\u001b[38;5;132;01m{\u001b[39;00mfile\u001b[38;5;132;01m}\u001b[39;00m\u001b[38;5;124m by default \u001b[39m\u001b[38;5;124m\"\u001b[39m\n\u001b[0;32m    306\u001b[0m         \u001b[38;5;124m\"\u001b[39m\u001b[38;5;124mas it is likely to crash IPython. If you know what you are doing, \u001b[39m\u001b[38;5;124m\"\u001b[39m\n\u001b[0;32m    307\u001b[0m         \u001b[38;5;124m\"\u001b[39m\u001b[38;5;124myou can use builtins\u001b[39m\u001b[38;5;124m'\u001b[39m\u001b[38;5;124m open.\u001b[39m\u001b[38;5;124m\"\u001b[39m\n\u001b[0;32m    308\u001b[0m     )\n\u001b[1;32m--> 310\u001b[0m \u001b[38;5;28;01mreturn\u001b[39;00m io_open(file, \u001b[38;5;241m*\u001b[39margs, \u001b[38;5;241m*\u001b[39m\u001b[38;5;241m*\u001b[39mkwargs)\n",
      "\u001b[1;31mFileNotFoundError\u001b[0m: [Errno 2] No such file or directory: 'screenshot1.png'"
     ]
    }
   ],
   "source": [
    "# Binary File I/O\n",
    "\n",
    "with open('screenshot1.png', 'rb') as f:          # Read binary\n",
    "    with open('screenshot_copy.png', 'wb') as wf: # Write binary\n",
    "        wf.write(f.read())"
   ]
  },
  {
   "cell_type": "code",
   "execution_count": null,
   "metadata": {},
   "outputs": [],
   "source": [
    "with open('sample.txt', 'w') as f:\n",
    "  f.write('5')"
   ]
  },
  {
   "cell_type": "code",
   "execution_count": null,
   "metadata": {},
   "outputs": [],
   "source": [
    "with open('sample.txt', 'r') as f:\n",
    "  print(int(f.read()) + 5) # convert read() output to int"
   ]
  },
  {
   "cell_type": "code",
   "execution_count": null,
   "metadata": {},
   "outputs": [],
   "source": [
    "# More Complex Data\n",
    "\n",
    "d = {\n",
    "    'name':'nitish',\n",
    "     'age':33,\n",
    "     'gender':'male'\n",
    "}\n",
    "\n",
    "with open('sample.txt', 'w') as f:\n",
    "  f.write(str(d))"
   ]
  },
  {
   "cell_type": "code",
   "execution_count": null,
   "metadata": {},
   "outputs": [],
   "source": [
    "# JSON Serialization\n",
    "\n",
    "# List to JSON\n",
    "import json\n",
    "\n",
    "L = [1, 2, 3, 4]\n",
    "\n",
    "with open('demo.json', 'w') as f:\n",
    "  json.dump(L, f) # Serialize L to 'demo.json'"
   ]
  },
  {
   "cell_type": "code",
   "execution_count": null,
   "metadata": {},
   "outputs": [],
   "source": [
    "# Dict to JSON\n",
    "d = {\n",
    "    'name':'nitish',\n",
    "     'age':33,\n",
    "     'gender':'male'\n",
    "}\n",
    "\n",
    "with open('demo.json', 'w') as f:\n",
    "  json.dump(d, f, indent=4) # Serialize dict d with indentation"
   ]
  },
  {
   "cell_type": "code",
   "execution_count": null,
   "metadata": {},
   "outputs": [],
   "source": [
    "# Deserialization\n",
    "\n",
    "import json\n",
    "\n",
    "with open('demo.json', 'r') as f:\n",
    "  d = json.load(f)\n",
    "  print(d)\n",
    "  print(type(d))"
   ]
  },
  {
   "cell_type": "code",
   "execution_count": null,
   "metadata": {},
   "outputs": [],
   "source": [
    "# Serialize/Deserialize Tuple\n",
    "\n",
    "import json\n",
    "\n",
    "t = (1, 2, 3, 4, 5)\n",
    "\n",
    "with open('demo.json', 'w') as f:\n",
    "  json.dump(t, f)"
   ]
  },
  {
   "cell_type": "code",
   "execution_count": null,
   "metadata": {},
   "outputs": [],
   "source": [
    "# Serialize/Deserialize Nested Dict\n",
    "\n",
    "d = {\n",
    "    'student':'nitish',\n",
    "     'marks':[23, 14, 34, 45, 56]\n",
    "}\n",
    "\n",
    "with open('demo.json', 'w') as f:\n",
    "  json.dump(d, f)"
   ]
  }
 ],
 "metadata": {
  "kernelspec": {
   "display_name": "base",
   "language": "python",
   "name": "python3"
  },
  "language_info": {
   "codemirror_mode": {
    "name": "ipython",
    "version": 3
   },
   "file_extension": ".py",
   "mimetype": "text/x-python",
   "name": "python",
   "nbconvert_exporter": "python",
   "pygments_lexer": "ipython3",
   "version": "3.11.7"
  }
 },
 "nbformat": 4,
 "nbformat_minor": 2
}
