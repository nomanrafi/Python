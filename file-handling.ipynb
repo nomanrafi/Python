{
 "cells": [
  {
   "cell_type": "code",
   "execution_count": 1,
   "metadata": {},
   "outputs": [],
   "source": [
    "# Case 1 - File Not Present\n",
    "\n",
    "f = open('sample.txt', 'w')\n",
    "f.write('Hello world')\n",
    "f.close()\n",
    "\n",
    "# Create file in current dir"
   ]
  },
  {
   "cell_type": "code",
   "execution_count": 2,
   "metadata": {},
   "outputs": [],
   "source": [
    "# Case 2 - File Overwrite in Write Mode ('w')\n",
    "\n",
    "f = open('sample.txt', 'w')\n",
    "f.write('salman khan')\n",
    "f.close()\n",
    "\n",
    "# Note: Opening in 'w' mode replaces all existing content in 'sample.txt'."
   ]
  },
  {
   "cell_type": "code",
   "execution_count": 3,
   "metadata": {},
   "outputs": [
    {
     "name": "stdout",
     "output_type": "stream",
     "text": [
      "salman kha\n",
      "n\n",
      "\n",
      "\n"
     ]
    }
   ],
   "source": [
    "# Reading 10 Characters at a Time\n",
    "\n",
    "with open('sample.txt', 'r') as f:\n",
    "    print(f.read(10))  # First 10 chars\n",
    "    print(f.read(10))  # Next 10 chars\n",
    "    print(f.read(10))  # Next 10 chars\n",
    "    print(f.read(10))  # Next 10 chars\n",
    "    # Each `print(f.read(10))` reads next 10 chars sequentially.\n",
    "    \n",
    "# Buffering tracks processed chars; `read()` resumes from buffer."
   ]
  },
  {
   "cell_type": "code",
   "execution_count": 4,
   "metadata": {},
   "outputs": [
    {
     "name": "stdout",
     "output_type": "stream",
     "text": [
      "salman kha\n",
      "n\n",
      "\n",
      "\n"
     ]
    }
   ],
   "source": [
    "# Reading 10 Characters at a Time\n",
    "\n",
    "with open('sample.txt', 'r') as f:\n",
    "    print(f.read(10))  # First 10 chars\n",
    "    print(f.read(10))  # Next 10 chars\n",
    "    print(f.read(10))  # Next 10 chars\n",
    "    print(f.read(10))  # Next 10 chars\n",
    "    # Each `print(f.read(10))` reads next 10 chars sequentially.\n",
    "    \n",
    "# Buffering tracks processed chars; `read()` resumes from buffer."
   ]
  },
  {
   "cell_type": "code",
   "execution_count": 5,
   "metadata": {},
   "outputs": [
    {
     "name": "stdout",
     "output_type": "stream",
     "text": [
      "\n",
      "15\n",
      "\n",
      "15\n"
     ]
    }
   ],
   "source": [
    "# Seek and Tell Function\n",
    "\n",
    "with open('sample.txt', 'r') as f:\n",
    "    f.seek(15)         # Move to 15th char\n",
    "    print(f.read(10))  # Read 10 chars\n",
    "    print(f.tell())    # Position after read\n",
    "    print(f.read(10))  # Read next 10 chars\n",
    "    print(f.tell())    # New position"
   ]
  },
  {
   "cell_type": "code",
   "execution_count": 6,
   "metadata": {},
   "outputs": [],
   "source": [
    "# Seek during write\n",
    "\n",
    "with open('sample.txt', 'w') as f:\n",
    "    f.write('Hello')\n",
    "    f.seek(0)          # Cursor to start\n",
    "    f.write('Xa')      # Overwrite 'He' ---> 'Xa'"
   ]
  },
  {
   "cell_type": "code",
   "execution_count": 7,
   "metadata": {},
   "outputs": [],
   "source": [
    "with open('sample.txt', 'w') as f:\n",
    "  f.write('5')"
   ]
  },
  {
   "cell_type": "code",
   "execution_count": 8,
   "metadata": {},
   "outputs": [
    {
     "name": "stdout",
     "output_type": "stream",
     "text": [
      "10\n"
     ]
    }
   ],
   "source": [
    "with open('sample.txt', 'r') as f:\n",
    "  print(int(f.read()) + 5) # convert read() output to int"
   ]
  },
  {
   "cell_type": "code",
   "execution_count": 9,
   "metadata": {},
   "outputs": [],
   "source": [
    "# More Complex Data\n",
    "\n",
    "d = {\n",
    "    'name':'nitish',\n",
    "     'age':33,\n",
    "     'gender':'male'\n",
    "}\n",
    "\n",
    "with open('sample.txt', 'w') as f:\n",
    "  f.write(str(d))"
   ]
  },
  {
   "cell_type": "code",
   "execution_count": 10,
   "metadata": {},
   "outputs": [],
   "source": [
    "# JSON Serialization\n",
    "\n",
    "# List to JSON\n",
    "import json\n",
    "\n",
    "L = [1, 2, 3, 4]\n",
    "\n",
    "with open('demo.json', 'w') as f:\n",
    "  json.dump(L, f) # Serialize L to 'demo.json'"
   ]
  },
  {
   "cell_type": "code",
   "execution_count": 11,
   "metadata": {},
   "outputs": [],
   "source": [
    "# Dict to JSON\n",
    "d = {\n",
    "    'name':'nitish',\n",
    "     'age':33,\n",
    "     'gender':'male'\n",
    "}\n",
    "\n",
    "with open('demo.json', 'w') as f:\n",
    "  json.dump(d, f, indent=4) # Serialize dict d with indentation"
   ]
  },
  {
   "cell_type": "code",
   "execution_count": 12,
   "metadata": {},
   "outputs": [
    {
     "name": "stdout",
     "output_type": "stream",
     "text": [
      "{'name': 'nitish', 'age': 33, 'gender': 'male'}\n",
      "<class 'dict'>\n"
     ]
    }
   ],
   "source": [
    "# Deserialization\n",
    "\n",
    "import json\n",
    "\n",
    "with open('demo.json', 'r') as f:\n",
    "  d = json.load(f)\n",
    "  print(d)\n",
    "  print(type(d))"
   ]
  },
  {
   "cell_type": "code",
   "execution_count": 13,
   "metadata": {},
   "outputs": [],
   "source": [
    "# Serialize/Deserialize Tuple\n",
    "\n",
    "import json\n",
    "\n",
    "t = (1, 2, 3, 4, 5)\n",
    "\n",
    "with open('demo.json', 'w') as f:\n",
    "  json.dump(t, f)"
   ]
  },
  {
   "cell_type": "code",
   "execution_count": 14,
   "metadata": {},
   "outputs": [],
   "source": [
    "# Serialize/Deserialize Nested Dict\n",
    "\n",
    "d = {\n",
    "    'student':'nitish',\n",
    "     'marks':[23, 14, 34, 45, 56]\n",
    "}\n",
    "\n",
    "with open('demo.json', 'w') as f:\n",
    "  json.dump(d, f)"
   ]
  },
  {
   "cell_type": "code",
   "execution_count": 15,
   "metadata": {},
   "outputs": [],
   "source": [
    "class Person:\n",
    "\n",
    "  def __init__(self, fname, lname, age, gender):\n",
    "    self.fname = fname\n",
    "    self.lname = lname\n",
    "    self.age = age\n",
    "    self.gender = gender\n",
    "\n",
    "# Print format:\n",
    "# Name: {fname} {lname}\n",
    "# Age: {age}\n",
    "# Gender: {gender}"
   ]
  },
  {
   "cell_type": "code",
   "execution_count": 16,
   "metadata": {},
   "outputs": [],
   "source": [
    "person = Person('Nitish', 'Singh', 33, 'male')\n"
   ]
  },
  {
   "cell_type": "code",
   "execution_count": 17,
   "metadata": {},
   "outputs": [],
   "source": [
    "# String Representation\n",
    "\n",
    "import json\n",
    "\n",
    "def show_object(person):\n",
    "  if isinstance(person, Person):\n",
    "    return \"{} {} age -> {} gender -> {}\".format(person.fname, person.lname, person.age, person.gender)\n",
    "\n",
    "with open('demo.json', 'w') as f:\n",
    "  json.dump(person, f, default=show_object)"
   ]
  },
  {
   "cell_type": "code",
   "execution_count": 18,
   "metadata": {},
   "outputs": [],
   "source": [
    "# Dictionary Representation\n",
    "\n",
    "import json\n",
    "\n",
    "def show_object(person):\n",
    "  if isinstance(person, Person):\n",
    "    return {'name':person.fname + ' ' + person.lname, 'age':person.age, 'gender':person.gender}\n",
    "\n",
    "with open('demo.json', 'w') as f:\n",
    "  json.dump(person, f, default=show_object, indent=4)"
   ]
  },
  {
   "cell_type": "code",
   "execution_count": null,
   "metadata": {},
   "outputs": [],
   "source": [
    "# Deserializing JSON\n",
    "\n",
    "import json\n",
    "\n",
    "with open('demo.json', 'r') as f:\n",
    "  d = json.load(f)\n",
    "  print(d)\n",
    "  print(type(d))"
   ]
  },
  {
   "cell_type": "code",
   "execution_count": null,
   "metadata": {},
   "outputs": [],
   "source": [
    "class Person:\n",
    "\n",
    "  def __init__(self, name, age):\n",
    "    self.name = name\n",
    "    self.age = age\n",
    "\n",
    "  def display_info(self):\n",
    "    print('Hi my name is', self.name, 'and I am ', self.age, 'years old')"
   ]
  },
  {
   "cell_type": "code",
   "execution_count": null,
   "metadata": {},
   "outputs": [],
   "source": [
    "p = Person('nitish', 33)"
   ]
  },
  {
   "cell_type": "code",
   "execution_count": null,
   "metadata": {},
   "outputs": [],
   "source": [
    "# Pickle Dump\n",
    "\n",
    "import pickle\n",
    "with open('person.pkl', 'wb') as f:\n",
    "  pickle.dump(p, f)"
   ]
  },
  {
   "cell_type": "code",
   "execution_count": null,
   "metadata": {},
   "outputs": [],
   "source": [
    "# Pickle Load\n",
    "\n",
    "import pickle\n",
    "with open('person.pkl', 'rb') as f:\n",
    "  p = pickle.load(f)\n",
    "\n",
    "p.display_info()"
   ]
  },
  {
   "cell_type": "code",
   "execution_count": null,
   "metadata": {},
   "outputs": [],
   "source": []
  },
  {
   "cell_type": "code",
   "execution_count": null,
   "metadata": {},
   "outputs": [],
   "source": []
  },
  {
   "cell_type": "code",
   "execution_count": null,
   "metadata": {},
   "outputs": [],
   "source": []
  },
  {
   "cell_type": "code",
   "execution_count": null,
   "metadata": {},
   "outputs": [],
   "source": []
  },
  {
   "cell_type": "code",
   "execution_count": null,
   "metadata": {},
   "outputs": [],
   "source": []
  },
  {
   "cell_type": "code",
   "execution_count": null,
   "metadata": {},
   "outputs": [],
   "source": []
  }
 ],
 "metadata": {
  "kernelspec": {
   "display_name": "base",
   "language": "python",
   "name": "python3"
  },
  "language_info": {
   "codemirror_mode": {
    "name": "ipython",
    "version": 3
   },
   "file_extension": ".py",
   "mimetype": "text/x-python",
   "name": "python",
   "nbconvert_exporter": "python",
   "pygments_lexer": "ipython3",
   "version": "3.11.7"
  }
 },
 "nbformat": 4,
 "nbformat_minor": 2
}
