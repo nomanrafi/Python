{
 "cells": [
  {
   "cell_type": "code",
   "execution_count": 1,
   "metadata": {},
   "outputs": [
    {
     "name": "stdout",
     "output_type": "stream",
     "text": [
      "Welcome\n"
     ]
    }
   ],
   "source": [
    "email = input(\"Enter your Email: \")\n",
    "if \"@\" in email:\n",
    "    password = input(\"Enter your password: \")\n",
    "    \n",
    "    if email == \"saurabh@gmail.com\" and password == \"1234\":\n",
    "        print(\"Welcome\")\n",
    "    elif email == \"saurabh@gmail.com\" and password != \"1234\":\n",
    "        print(\"Password incorrect\")\n",
    "        password = input(\"Password fir se bol: \")\n",
    "        if password ==\"1234\":\n",
    "            print(\"Finally correct\")\n",
    "        else:\n",
    "            print(\"Still incorrect\")\n",
    "    else:\n",
    "        print(\"Incorrect credentials\")\n",
    "else:\n",
    "    print(\"Email incorrect: \")"
   ]
  },
  {
   "cell_type": "code",
   "execution_count": 2,
   "metadata": {},
   "outputs": [
    {
     "name": "stdout",
     "output_type": "stream",
     "text": [
      "smallest is 12\n"
     ]
    }
   ],
   "source": [
    "# 1. Min of 3 Numbers\n",
    "a = int(input('first num: '))\n",
    "b = int(input('second num: '))\n",
    "c = int(input('third num: '))\n",
    "\n",
    "if a < b and a < c:\n",
    "    print('smallest is', a)\n",
    "elif b < c:\n",
    "    print('smallest is', b)\n",
    "else:\n",
    "    print('smallest is', c)"
   ]
  },
  {
   "cell_type": "code",
   "execution_count": 3,
   "metadata": {},
   "outputs": [
    {
     "name": "stdout",
     "output_type": "stream",
     "text": [
      "withdraw\n"
     ]
    }
   ],
   "source": [
    "# 2. Menu-Driven Calculator\n",
    "menu = input(\"\"\"\n",
    "Hi! how can I help you.\n",
    "1. Enter 1 for pin change\n",
    "2. Enter 2 for balance check\n",
    "3. Enter 3 for withdrawl\n",
    "4. Enter 4 for exit\n",
    "\"\"\")\n",
    "\n",
    "if menu == '1':\n",
    "  print('pin change')\n",
    "elif menu == '2':\n",
    "  print('balance')\n",
    "elif menu == '3':\n",
    "    print('withdraw')\n",
    "else:\n",
    "  print('exit')"
   ]
  }
 ],
 "metadata": {
  "kernelspec": {
   "display_name": "base",
   "language": "python",
   "name": "python3"
  },
  "language_info": {
   "codemirror_mode": {
    "name": "ipython",
    "version": 3
   },
   "file_extension": ".py",
   "mimetype": "text/x-python",
   "name": "python",
   "nbconvert_exporter": "python",
   "pygments_lexer": "ipython3",
   "version": "3.11.7"
  }
 },
 "nbformat": 4,
 "nbformat_minor": 2
}
